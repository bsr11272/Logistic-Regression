{
 "cells": [
  {
   "cell_type": "code",
   "execution_count": 1,
   "id": "884d68d8-d346-4364-b381-efda66bbda6c",
   "metadata": {},
   "outputs": [],
   "source": [
    "from sklearn import datasets\n",
    "import pandas as pd\n",
    "import numpy as np\n",
    "import seaborn as sns\n",
    "import matplotlib.pyplot as plt\n",
    "\n",
    "from sklearn.model_selection import train_test_split\n",
    "\n",
    "from tqdm import tqdm\n",
    "\n",
    "\n",
    "import math"
   ]
  },
  {
   "cell_type": "code",
   "execution_count": 2,
   "id": "ae73a9bf-1539-439f-a67a-4d09257ef59c",
   "metadata": {},
   "outputs": [
    {
     "data": {
      "text/html": [
       "<div>\n",
       "<style scoped>\n",
       "    .dataframe tbody tr th:only-of-type {\n",
       "        vertical-align: middle;\n",
       "    }\n",
       "\n",
       "    .dataframe tbody tr th {\n",
       "        vertical-align: top;\n",
       "    }\n",
       "\n",
       "    .dataframe thead th {\n",
       "        text-align: right;\n",
       "    }\n",
       "</style>\n",
       "<table border=\"1\" class=\"dataframe\">\n",
       "  <thead>\n",
       "    <tr style=\"text-align: right;\">\n",
       "      <th></th>\n",
       "      <th>y</th>\n",
       "      <th>x1</th>\n",
       "      <th>x2</th>\n",
       "    </tr>\n",
       "  </thead>\n",
       "  <tbody>\n",
       "    <tr>\n",
       "      <th>0</th>\n",
       "      <td>1</td>\n",
       "      <td>71</td>\n",
       "      <td>140</td>\n",
       "    </tr>\n",
       "    <tr>\n",
       "      <th>1</th>\n",
       "      <td>1</td>\n",
       "      <td>74</td>\n",
       "      <td>185</td>\n",
       "    </tr>\n",
       "    <tr>\n",
       "      <th>2</th>\n",
       "      <td>1</td>\n",
       "      <td>70</td>\n",
       "      <td>145</td>\n",
       "    </tr>\n",
       "    <tr>\n",
       "      <th>3</th>\n",
       "      <td>1</td>\n",
       "      <td>67</td>\n",
       "      <td>145</td>\n",
       "    </tr>\n",
       "    <tr>\n",
       "      <th>4</th>\n",
       "      <td>1</td>\n",
       "      <td>72</td>\n",
       "      <td>170</td>\n",
       "    </tr>\n",
       "  </tbody>\n",
       "</table>\n",
       "</div>"
      ],
      "text/plain": [
       "   y  x1   x2\n",
       "0  1  71  140\n",
       "1  1  74  185\n",
       "2  1  70  145\n",
       "3  1  67  145\n",
       "4  1  72  170"
      ]
     },
     "execution_count": 2,
     "metadata": {},
     "output_type": "execute_result"
    }
   ],
   "source": [
    "df_train = pd.read_excel(\"./Lab3_data.xls\", sheet_name = \"2004--2005 Data\")\n",
    "df_train.head()"
   ]
  },
  {
   "cell_type": "code",
   "execution_count": 3,
   "id": "66f1f34f-9573-49fb-aafe-5bf3a078bb21",
   "metadata": {},
   "outputs": [
    {
     "data": {
      "text/html": [
       "<div>\n",
       "<style scoped>\n",
       "    .dataframe tbody tr th:only-of-type {\n",
       "        vertical-align: middle;\n",
       "    }\n",
       "\n",
       "    .dataframe tbody tr th {\n",
       "        vertical-align: top;\n",
       "    }\n",
       "\n",
       "    .dataframe thead th {\n",
       "        text-align: right;\n",
       "    }\n",
       "</style>\n",
       "<table border=\"1\" class=\"dataframe\">\n",
       "  <thead>\n",
       "    <tr style=\"text-align: right;\">\n",
       "      <th></th>\n",
       "      <th>y</th>\n",
       "      <th>x1</th>\n",
       "      <th>x2</th>\n",
       "    </tr>\n",
       "  </thead>\n",
       "  <tbody>\n",
       "    <tr>\n",
       "      <th>0</th>\n",
       "      <td>1</td>\n",
       "      <td>71.0</td>\n",
       "      <td>140</td>\n",
       "    </tr>\n",
       "    <tr>\n",
       "      <th>1</th>\n",
       "      <td>1</td>\n",
       "      <td>74.0</td>\n",
       "      <td>185</td>\n",
       "    </tr>\n",
       "    <tr>\n",
       "      <th>2</th>\n",
       "      <td>1</td>\n",
       "      <td>70.0</td>\n",
       "      <td>145</td>\n",
       "    </tr>\n",
       "    <tr>\n",
       "      <th>3</th>\n",
       "      <td>1</td>\n",
       "      <td>67.0</td>\n",
       "      <td>145</td>\n",
       "    </tr>\n",
       "    <tr>\n",
       "      <th>4</th>\n",
       "      <td>1</td>\n",
       "      <td>72.0</td>\n",
       "      <td>170</td>\n",
       "    </tr>\n",
       "  </tbody>\n",
       "</table>\n",
       "</div>"
      ],
      "text/plain": [
       "   y    x1   x2\n",
       "0  1  71.0  140\n",
       "1  1  74.0  185\n",
       "2  1  70.0  145\n",
       "3  1  67.0  145\n",
       "4  1  72.0  170"
      ]
     },
     "execution_count": 3,
     "metadata": {},
     "output_type": "execute_result"
    }
   ],
   "source": [
    "df_test = pd.read_excel(\"./Lab3_data.xls\", sheet_name = \"2004--2007 Data\")\n",
    "df_test.head()"
   ]
  },
  {
   "cell_type": "code",
   "execution_count": 7,
   "id": "9ed104fc-7c35-4cb6-8e32-f70c1207e5df",
   "metadata": {},
   "outputs": [],
   "source": [
    "class LogisticRegressionClass:\n",
    "    def __init__(self, data, target, learning_rate = 0.00005, epsilon = 1e-8, \n",
    "                 max_iterations= 1000, reg_type = None, reg_lambda = 0, cutoff = 0.5) -> None:\n",
    "         \n",
    "        \"\"\"\n",
    "        @data: pandas dataframe or np.array, Passed data,\n",
    "\n",
    "        @does: ,\n",
    "        @return: ,\n",
    "        \"\"\"\n",
    "        \n",
    "        self.X = np.insert(data.to_numpy(),0,1,axis=1)\n",
    "        self.y = target.to_numpy()\n",
    "        self.reg_type = reg_type\n",
    "        self.reg_lambda = 0 if self.reg_type == None else reg_lambda\n",
    "        self.learning_rate = learning_rate\n",
    "        \n",
    "        self.epsilon = epsilon\n",
    "        self.max_iterations = max_iterations\n",
    "        self.cutoff = cutoff\n",
    "        \n",
    "        self.weight = None\n",
    "    \n",
    "    def sigmoid(self, z):\n",
    "        return 1 / (1 + np.exp(-z))\n",
    "    \n",
    "    def multiply(self, X):\n",
    "        return np.matmul(X, self.weight)\n",
    "    \n",
    "    def predict(self, X):\n",
    "        return (self.sigmoid(X) > self.cutoff).astype(int)\n",
    "\n",
    "    def loss_functions(self, X, y):\n",
    "        y_hat = self.multiply(X)\n",
    "        return -1 - np.dot(y, y_hat) + (self.sigmoid(y_hat)).sum()\n",
    "\n",
    "\n",
    "    def derivative_loss_functions(self, X, y):\n",
    "        y_hat = self.multiply(X)\n",
    "        return np.matmul(X.T, (self.sigmoid(y_hat) - y))\n",
    "        \n",
    "        \n",
    "    def reg_functions(self):\n",
    "        if self.reg_type == \"L2\":\n",
    "            return ((self.weight) ** 2).sum()\n",
    "        \n",
    "        if self.reg_type == \"L1\":\n",
    "            return (abs(self.weight)).sum()\n",
    "        else:\n",
    "            return 0\n",
    "\n",
    "    def derivative_reg_functions(self):\n",
    "\n",
    "        if self.reg_type == \"L2\":\n",
    "            return 2* self.weight\n",
    "        \n",
    "        if self.reg_type == \"L1\":\n",
    "            return np.sign(self.weight)\n",
    "        \n",
    "        else:\n",
    "            return 0\n",
    "        \n",
    "    def gradient_descent(self, X, y):\n",
    "        costs = []\n",
    "        iterations = []\n",
    "        previous_cost = math.inf\n",
    "        for iter in tqdm(range(1, self.max_iterations)):\n",
    "            \n",
    "            self.weight = self.weight - self.learning_rate * (self.derivative_loss_functions(X, y) + self.reg_lambda * self.derivative_reg_functions())\n",
    "            \n",
    "            current_cost = self.loss_functions(X, y) + self.reg_lambda * self.reg_functions()\n",
    "            #print(current_cost)\n",
    "            costs.append(current_cost)\n",
    "            iterations.append(iter)\n",
    "            if abs(current_cost - previous_cost) < self.epsilon:\n",
    "                print(\"Done\")\n",
    "                break\n",
    "            previous_cost = current_cost\n",
    "        self.fig_plot(x_data = iterations, y_data = costs)\n",
    "    \n",
    "\n",
    "    def fit(self):\n",
    "        \n",
    "        self.weight = np.random.randn(self.X.shape[1])\n",
    "        self.gradient_descent(self.X, self.y)\n",
    "        print(\"Gradient descent used\")\n",
    "        print(self.weight)\n",
    "\n",
    "    def fig_plot(self, x_data, y_data):\n",
    "        sns.lineplot(x= x_data, y= y_data)"
   ]
  },
  {
   "cell_type": "code",
   "execution_count": 8,
   "id": "42bf9e70-fbc3-4ace-8e37-c5e7abb002a7",
   "metadata": {},
   "outputs": [
    {
     "data": {
      "text/plain": [
       "((46, 2), (46,))"
      ]
     },
     "execution_count": 8,
     "metadata": {},
     "output_type": "execute_result"
    }
   ],
   "source": [
    "X = df_train.drop([\"y\"], axis = 1)\n",
    "X = (X - X.mean())/X.std()\n",
    "y = df_train[\"y\"]\n",
    "\n",
    "X.shape, y.shape"
   ]
  },
  {
   "cell_type": "code",
   "execution_count": 12,
   "id": "9360e783-8041-4065-9106-3459bb24dfc6",
   "metadata": {},
   "outputs": [
    {
     "name": "stderr",
     "output_type": "stream",
     "text": [
      "100%|██████████| 49999/49999 [00:03<00:00, 14086.60it/s]\n"
     ]
    },
    {
     "name": "stdout",
     "output_type": "stream",
     "text": [
      "Gradient descent used\n",
      "[3.13881148 1.1059158  3.29821758]\n"
     ]
    },
    {
     "data": {
      "image/png": "[encoded data removed]",
      "text/plain": [
       "<Figure size 640x480 with 1 Axes>"
      ]
     },
     "metadata": {},
     "output_type": "display_data"
    }
   ],
   "source": [
    "solver = LogisticRegressionClass(data= X, target= y, learning_rate = 0.00005, epsilon = 1e-8, max_iterations= 50000)\n",
    "solver.fit()"
   ]
  },
  {
   "cell_type": "code",
   "execution_count": null,
   "id": "4e904109-155b-4f1a-9d59-7168191c1fae",
   "metadata": {},
   "outputs": [],
   "source": []
  }
 ],
 "metadata": {
  "kernelspec": {
   "display_name": "Python 3 (ipykernel)",
   "language": "python",
   "name": "python3"
  },
  "language_info": {
   "codemirror_mode": {
    "name": "ipython",
    "version": 3
   },
   "file_extension": ".py",
   "mimetype": "text/x-python",
   "name": "python",
   "nbconvert_exporter": "python",
   "pygments_lexer": "ipython3",
   "version": "3.9.13"
  }
 },
 "nbformat": 4,
 "nbformat_minor": 5
}
